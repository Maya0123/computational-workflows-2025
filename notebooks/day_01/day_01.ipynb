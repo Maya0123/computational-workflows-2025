{
 "cells": [
  {
   "cell_type": "markdown",
   "metadata": {},
   "source": [
    "# Computational Workflows for biomedical data"
   ]
  },
  {
   "cell_type": "code",
   "execution_count": null,
   "metadata": {},
   "outputs": [],
   "source": []
  },
  {
   "cell_type": "markdown",
   "metadata": {},
   "source": [
    "Welcome to the course Computational Workflows for Biomedical Data. Over the next two weeks, you will learn how to leverage nf-core pipelines to analyze biomedical data and gain hands-on experience in creating your own pipelines, with a strong emphasis on Nextflow and nf-core.\n",
    "\n",
    "Course Structure:\n",
    "\n",
    "- Week 1: You will use a variety of nf-core pipelines to analyze a publicly available biomedical study.\n",
    "- Week 2: We will shift focus to learning the basics of Nextflow, enabling you to design and implement your own computational workflows.<br>\n",
    "- Final Project: The last couple of days, you will apply your knowledge to create a custom pipeline for analyzing biomedical data using Nextflow and the nf-core template."
   ]
  },
  {
   "cell_type": "markdown",
   "metadata": {},
   "source": [
    "## Basics\n",
    "\n",
    "If you have not installed all required software, please do so now asap!\n",
    "\n",
    "\n",
    "If you already installed all software, please go on and start answering the questions in this notebook. If you have any questions, don't hesitate to approach us."
   ]
  },
  {
   "cell_type": "markdown",
   "metadata": {},
   "source": [
    "1. What is nf-core?"
   ]
  },
  {
   "cell_type": "markdown",
   "metadata": {
    "vscode": {
     "languageId": "plaintext"
    }
   },
   "source": [
    "nf-core is a community effort - a diverse project with many groups collaborating for the collection, development and maintainance of a curated set of analysis pipelines using nextflow."
   ]
  },
  {
   "cell_type": "markdown",
   "metadata": {},
   "source": [
    "2. How many pipelines are there currently in nf-core?"
   ]
  },
  {
   "cell_type": "markdown",
   "metadata": {},
   "source": [
    " There are 139 pipelines currently available as part of nf-core."
   ]
  },
  {
   "cell_type": "markdown",
   "metadata": {},
   "source": [
    "3. Are there any non-bioinformatic pipelines in nf-core?"
   ]
  },
  {
   "cell_type": "markdown",
   "metadata": {},
   "source": [
    "Yes, there are."
   ]
  },
  {
   "cell_type": "markdown",
   "metadata": {},
   "source": [
    "4. Let's go back a couple of steps. What is a pipeline and what do we use it for?"
   ]
  },
  {
   "cell_type": "markdown",
   "metadata": {},
   "source": [
    "The idea of a pipeline is to automate processes, so that they are always consistent and easily reproducable. A pipeline is a workflow where a series of certain logical steps is defined and automated and data is passed from one step to another according to a set of rules. A big advantage is that it is easy to work with large amounts of data."
   ]
  },
  {
   "cell_type": "markdown",
   "metadata": {},
   "source": [
    "5. Why do you think nf-core adheres to strict guidelines?"
   ]
  },
  {
   "cell_type": "markdown",
   "metadata": {},
   "source": [
    "I would think it is important that when many people work together in a community using developing, using and maintaining pipelines, that strict guidelines are needed to prevent chaos and provide consistency."
   ]
  },
  {
   "cell_type": "markdown",
   "metadata": {
    "vscode": {
     "languageId": "plaintext"
    }
   },
   "source": [
    "6. What are the main features of nf-core pipelines?"
   ]
  },
  {
   "cell_type": "markdown",
   "metadata": {},
   "source": [
    "Documentation, Stable Releases, Open source, CI Testing, Run anywhere, Packaged software\n",
    "\n",
    "\n",
    "(consistensy, repdoducability)"
   ]
  },
  {
   "cell_type": "markdown",
   "metadata": {
    "vscode": {
     "languageId": "plaintext"
    }
   },
   "source": [
    "## Let's start using the pipelines"
   ]
  },
  {
   "cell_type": "markdown",
   "metadata": {},
   "source": [
    "1. Find the nf-core pipeline used to measure differential abundance of genes"
   ]
  },
  {
   "cell_type": "markdown",
   "metadata": {},
   "source": [
    "nf-core/differentialabundance\n",
    "\n",
    "Differential abundance analysis for feature/ observation matrices from platforms such as RNA-seq"
   ]
  },
  {
   "cell_type": "code",
   "execution_count": 1,
   "metadata": {},
   "outputs": [
    {
     "name": "stdout",
     "output_type": "stream",
     "text": [
      "/mnt/c/Users/Mayal/Documents/Uni Tübingen/3. Semester/Practical - Computational workflows/computational-workflows-2025/notebooks/day_01\n"
     ]
    }
   ],
   "source": [
    "# run the pipeline in a cell \n",
    "# to run bash in jupyter notebooks, simply use ! before the command\n",
    "# e.g.\n",
    "\n",
    "!pwd\n",
    "\n",
    "\n",
    "\n",
    "# For the tasks in the first week, please use the command line to run your commands and simply paste the commands you used in the respective cells!\n"
   ]
  },
  {
   "cell_type": "code",
   "execution_count": 4,
   "metadata": {},
   "outputs": [
    {
     "name": "stdout",
     "output_type": "stream",
     "text": [
      "\n",
      "\u001b[1m\u001b[38;5;232m\u001b[48;5;43m N E X T F L O W \u001b[0;2m  ~  \u001b[mversion 25.04.7\u001b[m\n",
      "\u001b[K\n",
      "Launching\u001b[35m `https://github.com/nf-core/differentialabundance` \u001b[0;2m[\u001b[0;1;36mridiculous_lovelace\u001b[0;2m] DSL2 - \u001b[36mrevision: \u001b[0;36m3dd360fed0 [1.5.0]\u001b[m\n",
      "\u001b[K\n",
      "\u001b[33mWARN: Access to undefined parameter `monochromeLogs` -- Initialise it to a default value eg. `params.monochromeLogs = some_value`\u001b[39m\u001b[K\n",
      "\n",
      "\n",
      "-\u001b[2m----------------------------------------------------\u001b[0m-\n",
      "                                        \u001b[0;32m,--.\u001b[0;30m/\u001b[0;32m,-.\u001b[0m\n",
      "\u001b[0;34m        ___     __   __   __   ___     \u001b[0;32m/,-._.--~'\u001b[0m\n",
      "\u001b[0;34m  |\\ | |__  __ /  ` /  \\ |__) |__         \u001b[0;33m}  {\u001b[0m\n",
      "\u001b[0;34m  | \\| |       \\__, \\__/ |  \\ |___     \u001b[0;32m\\`-._,-`-,\u001b[0m\n",
      "                                        \u001b[0;32m`._,._,'\u001b[0m\n",
      "\u001b[0;35m  nf-core/differentialabundance v1.5.0-g3dd360f\u001b[0m\n",
      "-\u001b[2m----------------------------------------------------\u001b[0m-\n",
      "\u001b[1mCore Nextflow options\u001b[0m\n",
      "  \u001b[0;34mrevision                    : \u001b[0;32m1.5.0\u001b[0m\n",
      "  \u001b[0;34mrunName                     : \u001b[0;32mridiculous_lovelace\u001b[0m\n",
      "  \u001b[0;34mcontainerEngine             : \u001b[0;32mdocker\u001b[0m\n",
      "  \u001b[0;34mcontainer                   : \u001b[0;32m[RMARKDOWNNOTEBOOK:biocontainers/r-shinyngs:1.8.8--r43hdfd78af_0]\u001b[0m\n",
      "  \u001b[0;34mlaunchDir                   : \u001b[0;32m/mnt/c/Users/Mayal/Documents/Uni Tübingen/3. Semester/Practical - Computational workflows/computational-workflows-2025/notebooks/day_01\u001b[0m\n",
      "  \u001b[0;34mworkDir                     : \u001b[0;32m/mnt/c/Users/Mayal/Documents/Uni Tübingen/3. Semester/Practical - Computational workflows/computational-workflows-2025/notebooks/day_01/work\u001b[0m\n",
      "  \u001b[0;34mprojectDir                  : \u001b[0;32m/home/mabile/.nextflow/assets/nf-core/differentialabundance\u001b[0m\n",
      "  \u001b[0;34muserName                    : \u001b[0;32mmabile\u001b[0m\n",
      "  \u001b[0;34mprofile                     : \u001b[0;32mtest,docker\u001b[0m\n",
      "  \u001b[0;34mconfigFiles                 : \u001b[0;32m\u001b[0m\n",
      "\n",
      "\u001b[1mInput/output options\u001b[0m\n",
      "  \u001b[0;34mstudy_name                  : \u001b[0;32mSRP254919\u001b[0m\n",
      "  \u001b[0;34minput                       : \u001b[0;32mhttps://raw.githubusercontent.com/nf-core/test-datasets/modules/data/genomics/mus_musculus/rnaseq_expression/SRP254919.samplesheet.csv\u001b[0m\n",
      "  \u001b[0;34mcontrasts                   : \u001b[0;32mhttps://raw.githubusercontent.com/nf-core/test-datasets/modules/data/genomics/mus_musculus/rnaseq_expression/SRP254919.contrasts.csv\u001b[0m\n",
      "  \u001b[0;34moutdir                      : \u001b[0;32mtest\u001b[0m\n",
      "\n",
      "\u001b[1mAbundance values\u001b[0m\n",
      "  \u001b[0;34mmatrix                      : \u001b[0;32mhttps://raw.githubusercontent.com/nf-core/test-datasets/modules/data/genomics/mus_musculus/rnaseq_expression/SRP254919.salmon.merged.gene_counts.top1000cov.tsv\u001b[0m\n",
      "  \u001b[0;34mtranscript_length_matrix    : \u001b[0;32mhttps://raw.githubusercontent.com/nf-core/test-datasets/modules/data/genomics/mus_musculus/rnaseq_expression/SRP254919.spoofed_lengths.tsv\u001b[0m\n",
      "  \u001b[0;34maffy_cel_files_archive      : \u001b[0;32mnull\u001b[0m\n",
      "  \u001b[0;34mquerygse                    : \u001b[0;32mnull\u001b[0m\n",
      "\n",
      "\u001b[1mObservations (e.g. samples) options\u001b[0m\n",
      "  \u001b[0;34mobservations_name_col       : \u001b[0;32msample\u001b[0m\n",
      "\n",
      "\u001b[1mAffy input options\u001b[0m\n",
      "  \u001b[0;34maffy_cdfname                : \u001b[0;32mnull\u001b[0m\n",
      "\n",
      "\u001b[1mFiltering\u001b[0m\n",
      "  \u001b[0;34mfiltering_min_abundance     : \u001b[0;32m10\u001b[0m\n",
      "\n",
      "\u001b[1mExploratory analysis\u001b[0m\n",
      "  \u001b[0;34mexploratory_main_variable   : \u001b[0;32mcontrasts\u001b[0m\n",
      "  \u001b[0;34mexploratory_log2_assays     : \u001b[0;32mraw,normalised\u001b[0m\n",
      "\n",
      "\u001b[1mDifferential analysis\u001b[0m\n",
      "  \u001b[0;34mdifferential_file_suffix    : \u001b[0;32m.deseq2.results.tsv\u001b[0m\n",
      "\n",
      "\u001b[1mDESeq2 specific options (RNA-seq only)\u001b[0m\n",
      "  \u001b[0;34mdeseq2_vst_nsub             : \u001b[0;32m500\u001b[0m\n",
      "\n",
      "\u001b[1mLimma specific options (microarray only)\u001b[0m\n",
      "  \u001b[0;34mlimma_spacing               : \u001b[0;32mnull\u001b[0m\n",
      "  \u001b[0;34mlimma_block                 : \u001b[0;32mnull\u001b[0m\n",
      "  \u001b[0;34mlimma_correlation           : \u001b[0;32mnull\u001b[0m\n",
      "\n",
      "\u001b[1mGSEA\u001b[0m\n",
      "  \u001b[0;34mgsea_run                    : \u001b[0;32mtrue\u001b[0m\n",
      "\n",
      "\u001b[1mgprofiler2\u001b[0m\n",
      "  \u001b[0;34mgprofiler2_correction_method: \u001b[0;32mgSCS\u001b[0m\n",
      "  \u001b[0;34mgprofiler2_background_file  : \u001b[0;32mauto\u001b[0m\n",
      "\n",
      "\u001b[1mShiny app settings\u001b[0m\n",
      "  \u001b[0;34mshinyngs_shinyapps_account  : \u001b[0;32mnull\u001b[0m\n",
      "  \u001b[0;34mshinyngs_shinyapps_app_name : \u001b[0;32mnull\u001b[0m\n",
      "\n",
      "\u001b[1mOptions related to gene set analysis\u001b[0m\n",
      "  \u001b[0;34mgene_sets_files             : \u001b[0;32mhttps://raw.githubusercontent.com/nf-core/test-datasets/modules/data/genomics/mus_musculus/gene_set_analysis/mh.all.v2022.1.Mm.symbols.gmt\u001b[0m\n",
      "\n",
      "\u001b[1mReporting options\u001b[0m\n",
      "  \u001b[0;34mreport_title                : \u001b[0;32mnull\u001b[0m\n",
      "  \u001b[0;34mreport_author               : \u001b[0;32mnull\u001b[0m\n",
      "  \u001b[0;34mreport_contributors         : \u001b[0;32mJane Doe\n",
      "Director of Institute of Microbiology\n",
      "University of Smallville;John Smith\n",
      "PhD student\n",
      "Institute of Microbiology\n",
      "University of Smallville\u001b[0m\n",
      "  \u001b[0;34mreport_description          : \u001b[0;32mnull\u001b[0m\n",
      "  \u001b[0;34mreport_round_digits         : \u001b[0;32m3\u001b[0m\n",
      "\n",
      "\u001b[1mReference genome options\u001b[0m\n",
      "  \u001b[0;34mgtf                         : \u001b[0;32mhttps://ftp.ensembl.org/pub/release-81/gtf/mus_musculus/Mus_musculus.GRCm38.81.gtf.gz\u001b[0m\n",
      "\n",
      "\u001b[1mInstitutional config options\u001b[0m\n",
      "  \u001b[0;34mconfig_profile_name         : \u001b[0;32mTest profile\u001b[0m\n",
      "  \u001b[0;34mconfig_profile_description  : \u001b[0;32mMinimal test dataset to check pipeline function\u001b[0m\n",
      "\n",
      "\u001b[1mMax job request options\u001b[0m\n",
      "  \u001b[0;34mmax_cpus                    : \u001b[0;32m2\u001b[0m\n",
      "  \u001b[0;34mmax_memory                  : \u001b[0;32m6.GB\u001b[0m\n",
      "  \u001b[0;34mmax_time                    : \u001b[0;32m6.h\u001b[0m\n",
      "\n",
      "!! Only displaying parameters that differ from the pipeline defaults !!\n",
      "-\u001b[2m----------------------------------------------------\u001b[0m-\n",
      "If you use nf-core/differentialabundance for your analysis please cite:\n",
      "\n",
      "* The pipeline\n",
      "  https://doi.org/10.5281/zenodo.7568000\n",
      "\n",
      "* The nf-core framework\n",
      "  https://doi.org/10.1038/s41587-020-0439-x\n",
      "\n",
      "* Software dependencies\n",
      "  https://github.com/nf-core/differentialabundance/blob/master/CITATIONS.md\n",
      "-\u001b[2m----------------------------------------------------\u001b[0m-\n",
      "\u001b[2m[\u001b[0;34m-        \u001b[0;2m] \u001b[0;2mNFC…ENTIALABUNDANCE:\u001b[mGUNZIP_GTF -\u001b[K\n",
      "\u001b[2m[\u001b[0;34m-        \u001b[0;2m] \u001b[0;2mNFC…TIALABUNDANCE:\u001b[mGTF_TO_TABLE -\u001b[K\n",
      "\u001b[3A\n",
      "\u001b[2m[\u001b[0;34m-        \u001b[0;2m] \u001b[0;2mNFC…ENTIALABUNDANCE:\u001b[mGUNZIP_GTF -\u001b[K\n",
      "\u001b[2m[\u001b[0;34m-        \u001b[0;2m] \u001b[0;2mNFC…TIALABUNDANCE:\u001b[mGTF_TO_TABLE -\u001b[K\n",
      "\u001b[2m[\u001b[0;34m-        \u001b[0;2m] \u001b[0;2mNFC…RENTIALABUNDANCE:\u001b[mVALIDATOR -\u001b[K\n",
      "\u001b[2m[\u001b[0;34m-        \u001b[0;2m] \u001b[0;2mNFC…NDANCE:\u001b[mCUSTOM_MATRIXFILTER -\u001b[K\n",
      "\u001b[2m[\u001b[0;34m-        \u001b[0;2m] \u001b[0;2mNFC…NTIALABUNDANCE:\u001b[mDESEQ2_NORM -\u001b[K\n",
      "\u001b[2m[\u001b[0;34m-        \u001b[0;2m] \u001b[0;2mNFC…NDANCE:\u001b[mDESEQ2_DIFFERENTIAL -\u001b[K\n",
      "\u001b[2m[\u001b[0;34m-        \u001b[0;2m] \u001b[0;2mNFC…ABUNDANCE:\u001b[mFILTER_DIFFTABLE -\u001b[K\n",
      "\u001b[2m[\u001b[0;34m-        \u001b[0;2m] \u001b[0;2mNFC…CE:\u001b[mCUSTOM_TABULARTOGSEAGCT -\u001b[K\n",
      "\u001b[2m[\u001b[0;34m-        \u001b[0;2m] \u001b[0;2mNFC…CE:\u001b[mCUSTOM_TABULARTOGSEACLS -\u001b[K\n",
      "\u001b[2m[\u001b[0;34m-        \u001b[0;2m] \u001b[0;2mNFC…DANCE:\u001b[mTABULAR_TO_GSEA_CHIP -\u001b[K\n",
      "\u001b[11A\n",
      "\u001b[2m[\u001b[0;34m-        \u001b[0;2m] \u001b[0;2mNFC…ENTIALABUNDANCE:\u001b[mGUNZIP_GTF -\u001b[K\n",
      "\u001b[2m[\u001b[0;34m-        \u001b[0;2m] \u001b[0;2mNFC…TIALABUNDANCE:\u001b[mGTF_TO_TABLE -\u001b[K\n",
      "\u001b[2m[\u001b[0;34m-        \u001b[0;2m] \u001b[0;2mNFC…RENTIALABUNDANCE:\u001b[mVALIDATOR -\u001b[K\n",
      "\u001b[2m[\u001b[0;34m-        \u001b[0;2m] \u001b[0;2mNFC…NDANCE:\u001b[mCUSTOM_MATRIXFILTER -\u001b[K\n",
      "\u001b[2m[\u001b[0;34m-        \u001b[0;2m] \u001b[0;2mNFC…NTIALABUNDANCE:\u001b[mDESEQ2_NORM -\u001b[K\n",
      "\u001b[2m[\u001b[0;34m-        \u001b[0;2m] \u001b[0;2mNFC…NDANCE:\u001b[mDESEQ2_DIFFERENTIAL -\u001b[K\n",
      "\u001b[2m[\u001b[0;34m-        \u001b[0;2m] \u001b[0;2mNFC…ABUNDANCE:\u001b[mFILTER_DIFFTABLE -\u001b[K\n",
      "\u001b[2m[\u001b[0;34m-        \u001b[0;2m] \u001b[0;2mNFC…CE:\u001b[mCUSTOM_TABULARTOGSEAGCT -\u001b[K\n",
      "\u001b[2m[\u001b[0;34m-        \u001b[0;2m] \u001b[0;2mNFC…CE:\u001b[mCUSTOM_TABULARTOGSEACLS -\u001b[K\n",
      "\u001b[2m[\u001b[0;34m-        \u001b[0;2m] \u001b[0;2mNFC…DANCE:\u001b[mTABULAR_TO_GSEA_CHIP -\u001b[K\n",
      "\u001b[2m[\u001b[0;34m-        \u001b[0;2m] \u001b[0;2mNFC…RENTIALABUNDANCE:\u001b[mGSEA_GSEA -\u001b[K\n",
      "\u001b[2m[\u001b[0;34m-        \u001b[0;2m] \u001b[0;2mNFC…ABUNDANCE:\u001b[mPLOT_EXPLORATORY -\u001b[K\n",
      "\u001b[2m[\u001b[0;34m-        \u001b[0;2m] \u001b[0;2mNFC…BUNDANCE:\u001b[mPLOT_DIFFERENTIAL -\u001b[K\n",
      "\u001b[14A\n",
      "\u001b[2m[\u001b[0;34m-        \u001b[0;2m] \u001b[0;2mNFC…ENTIALABUNDANCE:\u001b[mGUNZIP_GTF -\u001b[K\n",
      "\u001b[2m[\u001b[0;34m-        \u001b[0;2m] \u001b[0;2mNFC…TIALABUNDANCE:\u001b[mGTF_TO_TABLE -\u001b[K\n",
      "\u001b[2m[\u001b[0;34m-        \u001b[0;2m] \u001b[0;2mNFC…RENTIALABUNDANCE:\u001b[mVALIDATOR -\u001b[K\n",
      "\u001b[2m[\u001b[0;34m-        \u001b[0;2m] \u001b[0;2mNFC…NDANCE:\u001b[mCUSTOM_MATRIXFILTER -\u001b[K\n",
      "\u001b[2m[\u001b[0;34m-        \u001b[0;2m] \u001b[0;2mNFC…NTIALABUNDANCE:\u001b[mDESEQ2_NORM -\u001b[K\n",
      "\u001b[2m[\u001b[0;34m-        \u001b[0;2m] \u001b[0;2mNFC…NDANCE:\u001b[mDESEQ2_DIFFERENTIAL -\u001b[K\n",
      "\u001b[2m[\u001b[0;34m-        \u001b[0;2m] \u001b[0;2mNFC…ABUNDANCE:\u001b[mFILTER_DIFFTABLE -\u001b[K\n",
      "\u001b[2m[\u001b[0;34m-        \u001b[0;2m] \u001b[0;2mNFC…CE:\u001b[mCUSTOM_TABULARTOGSEAGCT -\u001b[K\n",
      "\u001b[2m[\u001b[0;34m-        \u001b[0;2m] \u001b[0;2mNFC…CE:\u001b[mCUSTOM_TABULARTOGSEACLS -\u001b[K\n",
      "\u001b[2m[\u001b[0;34m-        \u001b[0;2m] \u001b[0;2mNFC…DANCE:\u001b[mTABULAR_TO_GSEA_CHIP -\u001b[K\n",
      "\u001b[2m[\u001b[0;34m-        \u001b[0;2m] \u001b[0;2mNFC…RENTIALABUNDANCE:\u001b[mGSEA_GSEA -\u001b[K\n",
      "\u001b[2m[\u001b[0;34m-        \u001b[0;2m] \u001b[0;2mNFC…ABUNDANCE:\u001b[mPLOT_EXPLORATORY -\u001b[K\n",
      "\u001b[2m[\u001b[0;34m-        \u001b[0;2m] \u001b[0;2mNFC…BUNDANCE:\u001b[mPLOT_DIFFERENTIAL -\u001b[K\n",
      "\u001b[2m[\u001b[0;34m-        \u001b[0;2m] \u001b[0;2mNFC…TIALABUNDANCE:\u001b[mSHINYNGS_APP -\u001b[K\n",
      "\u001b[2m[\u001b[0;34m-        \u001b[0;2m] \u001b[0;2mNFC…BUNDANCE:\u001b[mRMARKDOWNNOTEBOOK -\u001b[K\n",
      "\u001b[2m[\u001b[0;34m-        \u001b[0;2m] \u001b[0;2mNFC…UNDANCE:\u001b[mMAKE_REPORT_BUNDLE -\u001b[K\n",
      "\u001b[17A\n",
      "\u001b[2m[\u001b[0;34m-        \u001b[0;2m] \u001b[0;2mNFC…ENTIALABUNDANCE:\u001b[mGUNZIP_GTF -\u001b[K\n",
      "\u001b[2m[\u001b[0;34m-        \u001b[0;2m] \u001b[0;2mNFC…TIALABUNDANCE:\u001b[mGTF_TO_TABLE -\u001b[K\n",
      "\u001b[2m[\u001b[0;34m-        \u001b[0;2m] \u001b[0;2mNFC…RENTIALABUNDANCE:\u001b[mVALIDATOR -\u001b[K\n",
      "\u001b[2m[\u001b[0;34m-        \u001b[0;2m] \u001b[0;2mNFC…NDANCE:\u001b[mCUSTOM_MATRIXFILTER -\u001b[K\n",
      "\u001b[2m[\u001b[0;34m-        \u001b[0;2m] \u001b[0;2mNFC…NTIALABUNDANCE:\u001b[mDESEQ2_NORM -\u001b[K\n",
      "\u001b[2m[\u001b[0;34m-        \u001b[0;2m] \u001b[0;2mNFC…NDANCE:\u001b[mDESEQ2_DIFFERENTIAL -\u001b[K\n",
      "\u001b[2m[\u001b[0;34m-        \u001b[0;2m] \u001b[0;2mNFC…ABUNDANCE:\u001b[mFILTER_DIFFTABLE -\u001b[K\n",
      "\u001b[2m[\u001b[0;34m-        \u001b[0;2m] \u001b[0;2mNFC…CE:\u001b[mCUSTOM_TABULARTOGSEAGCT -\u001b[K\n",
      "\u001b[2m[\u001b[0;34m-        \u001b[0;2m] \u001b[0;2mNFC…CE:\u001b[mCUSTOM_TABULARTOGSEACLS -\u001b[K\n",
      "\u001b[2m[\u001b[0;34m-        \u001b[0;2m] \u001b[0;2mNFC…DANCE:\u001b[mTABULAR_TO_GSEA_CHIP -\u001b[K\n",
      "\u001b[2m[\u001b[0;34m-        \u001b[0;2m] \u001b[0;2mNFC…RENTIALABUNDANCE:\u001b[mGSEA_GSEA -\u001b[K\n",
      "\u001b[2m[\u001b[0;34m-        \u001b[0;2m] \u001b[0;2mNFC…ABUNDANCE:\u001b[mPLOT_EXPLORATORY -\u001b[K\n",
      "\u001b[2m[\u001b[0;34m-        \u001b[0;2m] \u001b[0;2mNFC…BUNDANCE:\u001b[mPLOT_DIFFERENTIAL -\u001b[K\n",
      "\u001b[2m[\u001b[0;34m-        \u001b[0;2m] \u001b[0;2mNFC…TIALABUNDANCE:\u001b[mSHINYNGS_APP -\u001b[K\n",
      "\u001b[2m[\u001b[0;34m-        \u001b[0;2m] \u001b[0;2mNFC…BUNDANCE:\u001b[mRMARKDOWNNOTEBOOK -\u001b[K\n",
      "\u001b[2m[\u001b[0;34m-        \u001b[0;2m] \u001b[0;2mNFC…UNDANCE:\u001b[mMAKE_REPORT_BUNDLE -\u001b[K\n",
      "Staging foreign file: https://ftp.ensembl.org/pub/release-81/gtf/mus_musculus/Mus_musculus.GRCm38.81.gtf.gz\u001b[K\n",
      "\u001b[18A\n",
      "\u001b[2m[\u001b[0;34m-        \u001b[0;2m] \u001b[0;2mNFC…ENTIALABUNDANCE:\u001b[mGUNZIP_GTF\u001b[2m |\u001b[m 0 of 1\u001b[K\n",
      "\u001b[2m[\u001b[0;34m-        \u001b[0;2m] \u001b[0;2mNFC…TIALABUNDANCE:\u001b[mGTF_TO_TABLE -\u001b[K\n",
      "\u001b[2m[\u001b[0;34m-        \u001b[0;2m] \u001b[0;2mNFC…RENTIALABUNDANCE:\u001b[mVALIDATOR -\u001b[K\n",
      "\u001b[2m[\u001b[0;34m-        \u001b[0;2m] \u001b[0;2mNFC…NDANCE:\u001b[mCUSTOM_MATRIXFILTER -\u001b[K\n",
      "\u001b[2m[\u001b[0;34m-        \u001b[0;2m] \u001b[0;2mNFC…NTIALABUNDANCE:\u001b[mDESEQ2_NORM -\u001b[K\n",
      "\u001b[2m[\u001b[0;34m-        \u001b[0;2m] \u001b[0;2mNFC…NDANCE:\u001b[mDESEQ2_DIFFERENTIAL -\u001b[K\n",
      "\u001b[2m[\u001b[0;34m-        \u001b[0;2m] \u001b[0;2mNFC…ABUNDANCE:\u001b[mFILTER_DIFFTABLE -\u001b[K\n",
      "\u001b[2m[\u001b[0;34m-        \u001b[0;2m] \u001b[0;2mNFC…CE:\u001b[mCUSTOM_TABULARTOGSEAGCT -\u001b[K\n",
      "\u001b[2m[\u001b[0;34m-        \u001b[0;2m] \u001b[0;2mNFC…CE:\u001b[mCUSTOM_TABULARTOGSEACLS -\u001b[K\n",
      "\u001b[2m[\u001b[0;34m-        \u001b[0;2m] \u001b[0;2mNFC…DANCE:\u001b[mTABULAR_TO_GSEA_CHIP -\u001b[K\n",
      "\u001b[2m[\u001b[0;34m-        \u001b[0;2m] \u001b[0;2mNFC…RENTIALABUNDANCE:\u001b[mGSEA_GSEA -\u001b[K\n",
      "\u001b[2m[\u001b[0;34m-        \u001b[0;2m] \u001b[0;2mNFC…ABUNDANCE:\u001b[mPLOT_EXPLORATORY -\u001b[K\n",
      "\u001b[2m[\u001b[0;34m-        \u001b[0;2m] \u001b[0;2mNFC…BUNDANCE:\u001b[mPLOT_DIFFERENTIAL -\u001b[K\n",
      "\u001b[2m[\u001b[0;34m-        \u001b[0;2m] \u001b[0;2mNFC…TIALABUNDANCE:\u001b[mSHINYNGS_APP -\u001b[K\n",
      "\u001b[2m[\u001b[0;34m-        \u001b[0;2m] \u001b[0;2mNFC…BUNDANCE:\u001b[mRMARKDOWNNOTEBOOK -\u001b[K\n",
      "\u001b[2m[\u001b[0;34m-        \u001b[0;2m] \u001b[0;2mNFC…UNDANCE:\u001b[mMAKE_REPORT_BUNDLE -\u001b[K\n",
      "Staging foreign file: https://ftp.ensembl.org/pub/release-81/gtf/mus_musculus/Mus_musculus.GRCm38.81.gtf.gz\u001b[K\n",
      "\u001b[18A\n",
      "\u001b[2mexecutor >  local (1)\u001b[m\u001b[K\n",
      "\u001b[2m[\u001b[0;34m70/44dea7\u001b[0;2m] \u001b[0;2m\u001b[mNFC…musculus.GRCm38.81.gtf.gz)\u001b[2m |\u001b[m 0 of 1\u001b[K\n",
      "\u001b[2m[\u001b[0;34m-        \u001b[0;2m] \u001b[0;2mNFC…TIALABUNDANCE:\u001b[mGTF_TO_TABLE -\u001b[K\n",
      "\u001b[2m[\u001b[0;34m-        \u001b[0;2m] \u001b[0;2mNFC…RENTIALABUNDANCE:\u001b[mVALIDATOR -\u001b[K\n",
      "\u001b[2m[\u001b[0;34m-        \u001b[0;2m] \u001b[0;2mNFC…NDANCE:\u001b[mCUSTOM_MATRIXFILTER -\u001b[K\n",
      "\u001b[2m[\u001b[0;34m-        \u001b[0;2m] \u001b[0;2mNFC…NTIALABUNDANCE:\u001b[mDESEQ2_NORM -\u001b[K\n",
      "\u001b[2m[\u001b[0;34m-        \u001b[0;2m] \u001b[0;2mNFC…NDANCE:\u001b[mDESEQ2_DIFFERENTIAL -\u001b[K\n",
      "\u001b[2m[\u001b[0;34m-        \u001b[0;2m] \u001b[0;2mNFC…ABUNDANCE:\u001b[mFILTER_DIFFTABLE -\u001b[K\n",
      "\u001b[2m[\u001b[0;34m-        \u001b[0;2m] \u001b[0;2mNFC…CE:\u001b[mCUSTOM_TABULARTOGSEAGCT -\u001b[K\n",
      "\u001b[2m[\u001b[0;34m-        \u001b[0;2m] \u001b[0;2mNFC…CE:\u001b[mCUSTOM_TABULARTOGSEACLS -\u001b[K\n",
      "\u001b[2m[\u001b[0;34m-        \u001b[0;2m] \u001b[0;2mNFC…DANCE:\u001b[mTABULAR_TO_GSEA_CHIP -\u001b[K\n",
      "\u001b[2m[\u001b[0;34m-        \u001b[0;2m] \u001b[0;2mNFC…RENTIALABUNDANCE:\u001b[mGSEA_GSEA -\u001b[K\n",
      "\u001b[2m[\u001b[0;34m-        \u001b[0;2m] \u001b[0;2mNFC…ABUNDANCE:\u001b[mPLOT_EXPLORATORY -\u001b[K\n",
      "\u001b[2m[\u001b[0;34m-        \u001b[0;2m] \u001b[0;2mNFC…BUNDANCE:\u001b[mPLOT_DIFFERENTIAL -\u001b[K\n",
      "\u001b[2m[\u001b[0;34m-        \u001b[0;2m] \u001b[0;2mNFC…TIALABUNDANCE:\u001b[mSHINYNGS_APP -\u001b[K\n",
      "\u001b[2m[\u001b[0;34m-        \u001b[0;2m] \u001b[0;2mNFC…BUNDANCE:\u001b[mRMARKDOWNNOTEBOOK -\u001b[K\n",
      "\u001b[2m[\u001b[0;34m-        \u001b[0;2m] \u001b[0;2mNFC…UNDANCE:\u001b[mMAKE_REPORT_BUNDLE -\u001b[K\n",
      "Staging foreign file: https://ftp.ensembl.org/pub/release-81/gtf/mus_musculus/Mus_musculus.GRCm38.81.gtf.gz\u001b[K\n",
      "\u001b[19A\n",
      "\u001b[2mexecutor >  local (1)\u001b[m\u001b[K\n",
      "\u001b[2m[\u001b[0;34m70/44dea7\u001b[0;2m] \u001b[0;2m\u001b[mNFC…musculus.GRCm38.81.gtf.gz)\u001b[2m |\u001b[m 0 of 1\u001b[K\n",
      "\u001b[2m[\u001b[0;34m-        \u001b[0;2m] \u001b[0;2mNFC…TIALABUNDANCE:\u001b[mGTF_TO_TABLE -\u001b[K\n",
      "\u001b[2m[\u001b[0;34m-        \u001b[0;2m] \u001b[0;2mNFC…RENTIALABUNDANCE:\u001b[mVALIDATOR -\u001b[K\n",
      "\u001b[2m[\u001b[0;34m-        \u001b[0;2m] \u001b[0;2mNFC…NDANCE:\u001b[mCUSTOM_MATRIXFILTER -\u001b[K\n",
      "\u001b[2m[\u001b[0;34m-        \u001b[0;2m] \u001b[0;2mNFC…NTIALABUNDANCE:\u001b[mDESEQ2_NORM -\u001b[K\n",
      "\u001b[2m[\u001b[0;34m-        \u001b[0;2m] \u001b[0;2mNFC…NDANCE:\u001b[mDESEQ2_DIFFERENTIAL -\u001b[K\n",
      "\u001b[2m[\u001b[0;34m-        \u001b[0;2m] \u001b[0;2mNFC…ABUNDANCE:\u001b[mFILTER_DIFFTABLE -\u001b[K\n",
      "\u001b[2m[\u001b[0;34m-        \u001b[0;2m] \u001b[0;2mNFC…CE:\u001b[mCUSTOM_TABULARTOGSEAGCT -\u001b[K\n",
      "\u001b[2m[\u001b[0;34m-        \u001b[0;2m] \u001b[0;2mNFC…CE:\u001b[mCUSTOM_TABULARTOGSEACLS -\u001b[K\n",
      "\u001b[2m[\u001b[0;34m-        \u001b[0;2m] \u001b[0;2mNFC…DANCE:\u001b[mTABULAR_TO_GSEA_CHIP -\u001b[K\n",
      "\u001b[2m[\u001b[0;34m-        \u001b[0;2m] \u001b[0;2mNFC…RENTIALABUNDANCE:\u001b[mGSEA_GSEA -\u001b[K\n",
      "\u001b[2m[\u001b[0;34m-        \u001b[0;2m] \u001b[0;2mNFC…ABUNDANCE:\u001b[mPLOT_EXPLORATORY -\u001b[K\n",
      "\u001b[2m[\u001b[0;34m-        \u001b[0;2m] \u001b[0;2mNFC…BUNDANCE:\u001b[mPLOT_DIFFERENTIAL -\u001b[K\n",
      "\u001b[2m[\u001b[0;34m-        \u001b[0;2m] \u001b[0;2mNFC…TIALABUNDANCE:\u001b[mSHINYNGS_APP -\u001b[K\n",
      "\u001b[2m[\u001b[0;34m-        \u001b[0;2m] \u001b[0;2mNFC…BUNDANCE:\u001b[mRMARKDOWNNOTEBOOK -\u001b[K\n",
      "\u001b[2m[\u001b[0;34m-        \u001b[0;2m] \u001b[0;2mNFC…UNDANCE:\u001b[mMAKE_REPORT_BUNDLE -\u001b[K\n",
      "Staging foreign file: https://ftp.ensembl.org/pub/release-81/gtf/mus_musculus/Mus_musculus.GRCm38.81.gtf.gz\u001b[K\n",
      "\u001b[31mERROR ~ Error executing process > 'NFCORE_DIFFERENTIALABUNDANCE:DIFFERENTIALABUNDANCE:GUNZIP_GTF (Mus_musculus.GRCm38.81.gtf.gz)'\u001b[K\n",
      "\u001b[K\n",
      "Caused by:\u001b[K\n",
      "  Process `NFCORE_DIFFERENTIALABUNDANCE:DIFFERENTIALABUNDANCE:GUNZIP_GTF (Mus_musculus.GRCm38.81.gtf.gz)` terminated with an error exit status (126)\u001b[K\n",
      "\u001b[K\n",
      "\u001b[K\n",
      "Command executed:\u001b[K\n",
      "\u001b[K\n",
      "  # Not calling gunzip itself because it creates files\u001b[K\n",
      "  # with the original group ownership rather than the\u001b[K\n",
      "  # default one for that user / the work directory\u001b[K\n",
      "  gzip \\\u001b[K\n",
      "      -cd \\\u001b[K\n",
      "       \\\u001b[K\n",
      "      Mus_musculus.GRCm38.81.gtf.gz \\\u001b[K\n",
      "      > Mus_musculus.GRCm38.81.gtf\u001b[K\n",
      "  \u001b[K\n",
      "  cat <<-END_VERSIONS > versions.yml\u001b[K\n",
      "  \"NFCORE_DIFFERENTIALABUNDANCE:DIFFERENTIALABUNDANCE:GUNZIP_GTF\":\u001b[K\n",
      "      gunzip: $(echo $(gunzip --version 2>&1) | sed 's/^.*(gzip) //; s/ Copyright.*$//')\u001b[K\n",
      "  END_VERSIONS\u001b[K\n",
      "\u001b[K\n",
      "Command exit status:\u001b[K\n",
      "  126\u001b[K\n",
      "\u001b[K\n",
      "Command output:\u001b[K\n",
      "  (empty)\u001b[K\n",
      "\u001b[K\n",
      "Command error:\u001b[K\n",
      "  docker: permission denied while trying to connect to the Docker daemon socket at unix:///var/run/docker.sock: Head \"http://%2Fvar%2Frun%2Fdocker.sock/_ping\": dial unix /var/run/docker.sock: connect: permission denied.\u001b[K\n",
      "  See 'docker run --help'.\u001b[K\n",
      "\u001b[K\n",
      "Work dir:\u001b[K\n",
      "  /mnt/c/Users/Mayal/Documents/Uni Tübingen/3. Semester/Practical - Computational workflows/computational-workflows-2025/notebooks/day_01/work/70/44dea781fc8a0feb28f3a08647d48a\u001b[K\n",
      "\u001b[K\n",
      "Container:\u001b[K\n",
      "  quay.io/nf-core/ubuntu:20.04\u001b[K\n",
      "\u001b[K\n",
      "Tip: you can try to figure out what's wrong by changing to the process work dir and showing the script file named `.command.sh`\u001b[K\n",
      "\u001b[K\n",
      " -- Check '.nextflow.log' file for details\u001b[39m\u001b[K\n",
      "\u001b[60A\n",
      "\u001b[2mexecutor >  local (1)\u001b[m\u001b[K\n",
      "\u001b[2m[\u001b[0;34m70/44dea7\u001b[0;2m] \u001b[0;2m\u001b[mNFC…musculus.GRCm38.81.gtf.gz)\u001b[2m |\u001b[m 0 of 1\u001b[31m ✘\u001b[m\u001b[K\n",
      "\u001b[2m[\u001b[0;34m-        \u001b[0;2m] \u001b[0;2mNFC…TIALABUNDANCE:\u001b[mGTF_TO_TABLE -\u001b[K\n",
      "\u001b[2m[\u001b[0;34m-        \u001b[0;2m] \u001b[0;2mNFC…RENTIALABUNDANCE:\u001b[mVALIDATOR -\u001b[K\n",
      "\u001b[2m[\u001b[0;34m-        \u001b[0;2m] \u001b[0;2mNFC…NDANCE:\u001b[mCUSTOM_MATRIXFILTER -\u001b[K\n",
      "\u001b[2m[\u001b[0;34m-        \u001b[0;2m] \u001b[0;2mNFC…NTIALABUNDANCE:\u001b[mDESEQ2_NORM -\u001b[K\n",
      "\u001b[2m[\u001b[0;34m-        \u001b[0;2m] \u001b[0;2mNFC…NDANCE:\u001b[mDESEQ2_DIFFERENTIAL -\u001b[K\n",
      "\u001b[2m[\u001b[0;34m-        \u001b[0;2m] \u001b[0;2mNFC…ABUNDANCE:\u001b[mFILTER_DIFFTABLE -\u001b[K\n",
      "\u001b[2m[\u001b[0;34m-        \u001b[0;2m] \u001b[0;2mNFC…CE:\u001b[mCUSTOM_TABULARTOGSEAGCT -\u001b[K\n",
      "\u001b[2m[\u001b[0;34m-        \u001b[0;2m] \u001b[0;2mNFC…CE:\u001b[mCUSTOM_TABULARTOGSEACLS -\u001b[K\n",
      "\u001b[2m[\u001b[0;34m-        \u001b[0;2m] \u001b[0;2mNFC…DANCE:\u001b[mTABULAR_TO_GSEA_CHIP -\u001b[K\n",
      "\u001b[2m[\u001b[0;34m-        \u001b[0;2m] \u001b[0;2mNFC…RENTIALABUNDANCE:\u001b[mGSEA_GSEA -\u001b[K\n",
      "\u001b[2m[\u001b[0;34m-        \u001b[0;2m] \u001b[0;2mNFC…ABUNDANCE:\u001b[mPLOT_EXPLORATORY -\u001b[K\n",
      "\u001b[2m[\u001b[0;34m-        \u001b[0;2m] \u001b[0;2mNFC…BUNDANCE:\u001b[mPLOT_DIFFERENTIAL -\u001b[K\n",
      "\u001b[2m[\u001b[0;34m-        \u001b[0;2m] \u001b[0;2mNFC…TIALABUNDANCE:\u001b[mSHINYNGS_APP -\u001b[K\n",
      "\u001b[2m[\u001b[0;34m-        \u001b[0;2m] \u001b[0;2mNFC…BUNDANCE:\u001b[mRMARKDOWNNOTEBOOK -\u001b[K\n",
      "\u001b[2m[\u001b[0;34m-        \u001b[0;2m] \u001b[0;2mNFC…UNDANCE:\u001b[mMAKE_REPORT_BUNDLE -\u001b[K\n",
      "Staging foreign file: https://ftp.ensembl.org/pub/release-81/gtf/mus_musculus/Mus_musculus.GRCm38.81.gtf.gz\u001b[K\n",
      "Execution cancelled -- Finishing pending tasks before exit\u001b[K\n",
      "\u001b[31mERROR ~ Error executing process > 'NFCORE_DIFFERENTIALABUNDANCE:DIFFERENTIALABUNDANCE:GUNZIP_GTF (Mus_musculus.GRCm38.81.gtf.gz)'\u001b[K\n",
      "\u001b[K\n",
      "Caused by:\u001b[K\n",
      "  Process `NFCORE_DIFFERENTIALABUNDANCE:DIFFERENTIALABUNDANCE:GUNZIP_GTF (Mus_musculus.GRCm38.81.gtf.gz)` terminated with an error exit status (126)\u001b[K\n",
      "\u001b[K\n",
      "\u001b[K\n",
      "Command executed:\u001b[K\n",
      "\u001b[K\n",
      "  # Not calling gunzip itself because it creates files\u001b[K\n",
      "  # with the original group ownership rather than the\u001b[K\n",
      "  # default one for that user / the work directory\u001b[K\n",
      "  gzip \\\u001b[K\n",
      "      -cd \\\u001b[K\n",
      "       \\\u001b[K\n",
      "      Mus_musculus.GRCm38.81.gtf.gz \\\u001b[K\n",
      "      > Mus_musculus.GRCm38.81.gtf\u001b[K\n",
      "  \u001b[K\n",
      "  cat <<-END_VERSIONS > versions.yml\u001b[K\n",
      "  \"NFCORE_DIFFERENTIALABUNDANCE:DIFFERENTIALABUNDANCE:GUNZIP_GTF\":\u001b[K\n",
      "      gunzip: $(echo $(gunzip --version 2>&1) | sed 's/^.*(gzip) //; s/ Copyright.*$//')\u001b[K\n",
      "  END_VERSIONS\u001b[K\n",
      "\u001b[K\n",
      "Command exit status:\u001b[K\n",
      "  126\u001b[K\n",
      "\u001b[K\n",
      "Command output:\u001b[K\n",
      "  (empty)\u001b[K\n",
      "\u001b[K\n",
      "Command error:\u001b[K\n",
      "  docker: permission denied while trying to connect to the Docker daemon socket at unix:///var/run/docker.sock: Head \"http://%2Fvar%2Frun%2Fdocker.sock/_ping\": dial unix /var/run/docker.sock: connect: permission denied.\u001b[K\n",
      "  See 'docker run --help'.\u001b[K\n",
      "\u001b[K\n",
      "Work dir:\u001b[K\n",
      "  /mnt/c/Users/Mayal/Documents/Uni Tübingen/3. Semester/Practical - Computational workflows/computational-workflows-2025/notebooks/day_01/work/70/44dea781fc8a0feb28f3a08647d48a\u001b[K\n",
      "\u001b[K\n",
      "Container:\u001b[K\n",
      "  quay.io/nf-core/ubuntu:20.04\u001b[K\n",
      "\u001b[K\n",
      "Tip: you can try to figure out what's wrong by changing to the process work dir and showing the script file named `.command.sh`\u001b[K\n",
      "\u001b[K\n",
      " -- Check '.nextflow.log' file for details\u001b[39m\u001b[K\n",
      "\u001b[61A\n",
      "\u001b[2mexecutor >  local (1)\u001b[m\u001b[K\n",
      "\u001b[2m[\u001b[0;34m70/44dea7\u001b[0;2m] \u001b[0;2m\u001b[mNFC…musculus.GRCm38.81.gtf.gz)\u001b[2m |\u001b[m 0 of 1\u001b[31m ✘\u001b[m\u001b[K\n",
      "\u001b[2m[\u001b[0;34m-        \u001b[0;2m] \u001b[0;2mNFC…TIALABUNDANCE:\u001b[mGTF_TO_TABLE -\u001b[K\n",
      "\u001b[2m[\u001b[0;34m-        \u001b[0;2m] \u001b[0;2mNFC…RENTIALABUNDANCE:\u001b[mVALIDATOR -\u001b[K\n",
      "\u001b[2m[\u001b[0;34m-        \u001b[0;2m] \u001b[0;2mNFC…NDANCE:\u001b[mCUSTOM_MATRIXFILTER -\u001b[K\n",
      "\u001b[2m[\u001b[0;34m-        \u001b[0;2m] \u001b[0;2mNFC…NTIALABUNDANCE:\u001b[mDESEQ2_NORM -\u001b[K\n",
      "\u001b[2m[\u001b[0;34m-        \u001b[0;2m] \u001b[0;2mNFC…NDANCE:\u001b[mDESEQ2_DIFFERENTIAL -\u001b[K\n",
      "\u001b[2m[\u001b[0;34m-        \u001b[0;2m] \u001b[0;2mNFC…ABUNDANCE:\u001b[mFILTER_DIFFTABLE -\u001b[K\n",
      "\u001b[2m[\u001b[0;34m-        \u001b[0;2m] \u001b[0;2mNFC…CE:\u001b[mCUSTOM_TABULARTOGSEAGCT -\u001b[K\n",
      "\u001b[2m[\u001b[0;34m-        \u001b[0;2m] \u001b[0;2mNFC…CE:\u001b[mCUSTOM_TABULARTOGSEACLS -\u001b[K\n",
      "\u001b[2m[\u001b[0;34m-        \u001b[0;2m] \u001b[0;2mNFC…DANCE:\u001b[mTABULAR_TO_GSEA_CHIP -\u001b[K\n",
      "\u001b[2m[\u001b[0;34m-        \u001b[0;2m] \u001b[0;2mNFC…RENTIALABUNDANCE:\u001b[mGSEA_GSEA -\u001b[K\n",
      "\u001b[2m[\u001b[0;34m-        \u001b[0;2m] \u001b[0;2mNFC…ABUNDANCE:\u001b[mPLOT_EXPLORATORY -\u001b[K\n",
      "\u001b[2m[\u001b[0;34m-        \u001b[0;2m] \u001b[0;2mNFC…BUNDANCE:\u001b[mPLOT_DIFFERENTIAL -\u001b[K\n",
      "\u001b[2m[\u001b[0;34m-        \u001b[0;2m] \u001b[0;2mNFC…TIALABUNDANCE:\u001b[mSHINYNGS_APP -\u001b[K\n",
      "\u001b[2m[\u001b[0;34m-        \u001b[0;2m] \u001b[0;2mNFC…BUNDANCE:\u001b[mRMARKDOWNNOTEBOOK -\u001b[K\n",
      "\u001b[2m[\u001b[0;34m-        \u001b[0;2m] \u001b[0;2mNFC…UNDANCE:\u001b[mMAKE_REPORT_BUNDLE -\u001b[K\n",
      "Staging foreign file: https://ftp.ensembl.org/pub/release-81/gtf/mus_musculus/Mus_musculus.GRCm38.81.gtf.gz\u001b[K\n",
      "Execution cancelled -- Finishing pending tasks before exit\u001b[K\n",
      "\u001b[31mERROR ~ Error executing process > 'NFCORE_DIFFERENTIALABUNDANCE:DIFFERENTIALABUNDANCE:GUNZIP_GTF (Mus_musculus.GRCm38.81.gtf.gz)'\u001b[K\n",
      "\u001b[K\n",
      "Caused by:\u001b[K\n",
      "  Process `NFCORE_DIFFERENTIALABUNDANCE:DIFFERENTIALABUNDANCE:GUNZIP_GTF (Mus_musculus.GRCm38.81.gtf.gz)` terminated with an error exit status (126)\u001b[K\n",
      "\u001b[K\n",
      "\u001b[K\n",
      "Command executed:\u001b[K\n",
      "\u001b[K\n",
      "  # Not calling gunzip itself because it creates files\u001b[K\n",
      "  # with the original group ownership rather than the\u001b[K\n",
      "  # default one for that user / the work directory\u001b[K\n",
      "  gzip \\\u001b[K\n",
      "      -cd \\\u001b[K\n",
      "       \\\u001b[K\n",
      "      Mus_musculus.GRCm38.81.gtf.gz \\\u001b[K\n",
      "      > Mus_musculus.GRCm38.81.gtf\u001b[K\n",
      "  \u001b[K\n",
      "  cat <<-END_VERSIONS > versions.yml\u001b[K\n",
      "  \"NFCORE_DIFFERENTIALABUNDANCE:DIFFERENTIALABUNDANCE:GUNZIP_GTF\":\u001b[K\n",
      "      gunzip: $(echo $(gunzip --version 2>&1) | sed 's/^.*(gzip) //; s/ Copyright.*$//')\u001b[K\n",
      "  END_VERSIONS\u001b[K\n",
      "\u001b[K\n",
      "Command exit status:\u001b[K\n",
      "  126\u001b[K\n",
      "\u001b[K\n",
      "Command output:\u001b[K\n",
      "  (empty)\u001b[K\n",
      "\u001b[K\n",
      "Command error:\u001b[K\n",
      "  docker: permission denied while trying to connect to the Docker daemon socket at unix:///var/run/docker.sock: Head \"http://%2Fvar%2Frun%2Fdocker.sock/_ping\": dial unix /var/run/docker.sock: connect: permission denied.\u001b[K\n",
      "  See 'docker run --help'.\u001b[K\n",
      "\u001b[K\n",
      "Work dir:\u001b[K\n",
      "  /mnt/c/Users/Mayal/Documents/Uni Tübingen/3. Semester/Practical - Computational workflows/computational-workflows-2025/notebooks/day_01/work/70/44dea781fc8a0feb28f3a08647d48a\u001b[K\n",
      "\u001b[K\n",
      "Container:\u001b[K\n",
      "  quay.io/nf-core/ubuntu:20.04\u001b[K\n",
      "\u001b[K\n",
      "Tip: you can try to figure out what's wrong by changing to the process work dir and showing the script file named `.command.sh`\u001b[K\n",
      "\u001b[K\n",
      " -- Check '.nextflow.log' file for details\u001b[39m\u001b[K\n",
      "\n"
     ]
    }
   ],
   "source": [
    "# run the pipeline in the test profile using docker containers\n",
    "# make sure to specify the version you want to use (use the latest one)\n",
    "\n",
    "\n",
    "!nextflow run nf-core/differentialabundance -r 1.5.0 -profile test,docker --outdir test\n"
   ]
  },
  {
   "cell_type": "code",
   "execution_count": null,
   "metadata": {},
   "outputs": [],
   "source": [
    "# repeat the run. What did change?\n"
   ]
  },
  {
   "cell_type": "code",
   "execution_count": null,
   "metadata": {},
   "outputs": [],
   "source": [
    "# now set -resume to the command. What did change?\n"
   ]
  },
  {
   "cell_type": "markdown",
   "metadata": {},
   "source": [
    "Check out the current directory. Next to the outdir you specified, what else has changed?"
   ]
  },
  {
   "cell_type": "markdown",
   "metadata": {},
   "source": []
  },
  {
   "cell_type": "code",
   "execution_count": null,
   "metadata": {},
   "outputs": [],
   "source": [
    "# delete the work directory and run the pipeline again using -resume. What did change?\n"
   ]
  },
  {
   "cell_type": "markdown",
   "metadata": {},
   "source": [
    "What changed?"
   ]
  },
  {
   "cell_type": "markdown",
   "metadata": {},
   "source": [
    "## Lets look at the results"
   ]
  },
  {
   "cell_type": "markdown",
   "metadata": {},
   "source": [
    "### What is differential abundance analysis?"
   ]
  },
  {
   "cell_type": "markdown",
   "metadata": {},
   "source": [
    "Give the most important plots from the report:"
   ]
  },
  {
   "cell_type": "code",
   "execution_count": null,
   "metadata": {},
   "outputs": [],
   "source": []
  },
  {
   "cell_type": "code",
   "execution_count": null,
   "metadata": {},
   "outputs": [],
   "source": []
  }
 ],
 "metadata": {
  "kernelspec": {
   "display_name": "environment_ubuntu_practical",
   "language": "python",
   "name": "python3"
  },
  "language_info": {
   "codemirror_mode": {
    "name": "ipython",
    "version": 3
   },
   "file_extension": ".py",
   "mimetype": "text/x-python",
   "name": "python",
   "nbconvert_exporter": "python",
   "pygments_lexer": "ipython3",
   "version": "3.13.7"
  }
 },
 "nbformat": 4,
 "nbformat_minor": 2
}
